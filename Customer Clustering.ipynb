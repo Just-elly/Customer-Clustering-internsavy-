{
 "cells": [
  {
   "cell_type": "markdown",
   "id": "78d1200f",
   "metadata": {},
   "source": [
    "# customer clustering"
   ]
  },
  {
   "cell_type": "code",
   "execution_count": 1,
   "id": "1cf24b97",
   "metadata": {},
   "outputs": [],
   "source": [
    "\n",
    "#importing the relevant libraries\n",
    "import pandas as pd\n",
    "import numpy as np\n",
    "import seaborn as sns\n",
    "import matplotlib.pyplot as plt\n",
    "sns.set()"
   ]
  },
  {
   "cell_type": "code",
   "execution_count": 2,
   "id": "5a5e3767",
   "metadata": {},
   "outputs": [],
   "source": [
    "#loading the data\n",
    "data = pd.read_csv('Customer Data.csv')"
   ]
  },
  {
   "cell_type": "code",
   "execution_count": 3,
   "id": "c3386c1f",
   "metadata": {},
   "outputs": [
    {
     "data": {
      "text/html": [
       "<div>\n",
       "<style scoped>\n",
       "    .dataframe tbody tr th:only-of-type {\n",
       "        vertical-align: middle;\n",
       "    }\n",
       "\n",
       "    .dataframe tbody tr th {\n",
       "        vertical-align: top;\n",
       "    }\n",
       "\n",
       "    .dataframe thead th {\n",
       "        text-align: right;\n",
       "    }\n",
       "</style>\n",
       "<table border=\"1\" class=\"dataframe\">\n",
       "  <thead>\n",
       "    <tr style=\"text-align: right;\">\n",
       "      <th></th>\n",
       "      <th>ID</th>\n",
       "      <th>Sex</th>\n",
       "      <th>Marital status</th>\n",
       "      <th>Age</th>\n",
       "      <th>Education</th>\n",
       "      <th>Income</th>\n",
       "      <th>Occupation</th>\n",
       "      <th>Settlement size</th>\n",
       "    </tr>\n",
       "  </thead>\n",
       "  <tbody>\n",
       "    <tr>\n",
       "      <th>0</th>\n",
       "      <td>100000001</td>\n",
       "      <td>0</td>\n",
       "      <td>0</td>\n",
       "      <td>67</td>\n",
       "      <td>2</td>\n",
       "      <td>124670</td>\n",
       "      <td>1</td>\n",
       "      <td>2</td>\n",
       "    </tr>\n",
       "    <tr>\n",
       "      <th>1</th>\n",
       "      <td>100000002</td>\n",
       "      <td>1</td>\n",
       "      <td>1</td>\n",
       "      <td>22</td>\n",
       "      <td>1</td>\n",
       "      <td>150773</td>\n",
       "      <td>1</td>\n",
       "      <td>2</td>\n",
       "    </tr>\n",
       "    <tr>\n",
       "      <th>2</th>\n",
       "      <td>100000003</td>\n",
       "      <td>0</td>\n",
       "      <td>0</td>\n",
       "      <td>49</td>\n",
       "      <td>1</td>\n",
       "      <td>89210</td>\n",
       "      <td>0</td>\n",
       "      <td>0</td>\n",
       "    </tr>\n",
       "    <tr>\n",
       "      <th>3</th>\n",
       "      <td>100000004</td>\n",
       "      <td>0</td>\n",
       "      <td>0</td>\n",
       "      <td>45</td>\n",
       "      <td>1</td>\n",
       "      <td>171565</td>\n",
       "      <td>1</td>\n",
       "      <td>1</td>\n",
       "    </tr>\n",
       "    <tr>\n",
       "      <th>4</th>\n",
       "      <td>100000005</td>\n",
       "      <td>0</td>\n",
       "      <td>0</td>\n",
       "      <td>53</td>\n",
       "      <td>1</td>\n",
       "      <td>149031</td>\n",
       "      <td>1</td>\n",
       "      <td>1</td>\n",
       "    </tr>\n",
       "  </tbody>\n",
       "</table>\n",
       "</div>"
      ],
      "text/plain": [
       "          ID  Sex  Marital status  Age  Education  Income  Occupation  \\\n",
       "0  100000001    0               0   67          2  124670           1   \n",
       "1  100000002    1               1   22          1  150773           1   \n",
       "2  100000003    0               0   49          1   89210           0   \n",
       "3  100000004    0               0   45          1  171565           1   \n",
       "4  100000005    0               0   53          1  149031           1   \n",
       "\n",
       "   Settlement size  \n",
       "0                2  \n",
       "1                2  \n",
       "2                0  \n",
       "3                1  \n",
       "4                1  "
      ]
     },
     "execution_count": 3,
     "metadata": {},
     "output_type": "execute_result"
    }
   ],
   "source": [
    "#checking the first five rows\n",
    "data.head()"
   ]
  },
  {
   "cell_type": "code",
   "execution_count": 4,
   "id": "c268c0ee",
   "metadata": {},
   "outputs": [],
   "source": [
    "#dropping the ID column\n",
    "data = data.drop('ID', axis=1)"
   ]
  },
  {
   "cell_type": "code",
   "execution_count": 5,
   "id": "bbf8f7dd",
   "metadata": {},
   "outputs": [
    {
     "data": {
      "text/html": [
       "<div>\n",
       "<style scoped>\n",
       "    .dataframe tbody tr th:only-of-type {\n",
       "        vertical-align: middle;\n",
       "    }\n",
       "\n",
       "    .dataframe tbody tr th {\n",
       "        vertical-align: top;\n",
       "    }\n",
       "\n",
       "    .dataframe thead th {\n",
       "        text-align: right;\n",
       "    }\n",
       "</style>\n",
       "<table border=\"1\" class=\"dataframe\">\n",
       "  <thead>\n",
       "    <tr style=\"text-align: right;\">\n",
       "      <th></th>\n",
       "      <th>Sex</th>\n",
       "      <th>Marital status</th>\n",
       "      <th>Age</th>\n",
       "      <th>Education</th>\n",
       "      <th>Income</th>\n",
       "      <th>Occupation</th>\n",
       "      <th>Settlement size</th>\n",
       "    </tr>\n",
       "  </thead>\n",
       "  <tbody>\n",
       "    <tr>\n",
       "      <th>0</th>\n",
       "      <td>0</td>\n",
       "      <td>0</td>\n",
       "      <td>67</td>\n",
       "      <td>2</td>\n",
       "      <td>124670</td>\n",
       "      <td>1</td>\n",
       "      <td>2</td>\n",
       "    </tr>\n",
       "    <tr>\n",
       "      <th>1</th>\n",
       "      <td>1</td>\n",
       "      <td>1</td>\n",
       "      <td>22</td>\n",
       "      <td>1</td>\n",
       "      <td>150773</td>\n",
       "      <td>1</td>\n",
       "      <td>2</td>\n",
       "    </tr>\n",
       "    <tr>\n",
       "      <th>2</th>\n",
       "      <td>0</td>\n",
       "      <td>0</td>\n",
       "      <td>49</td>\n",
       "      <td>1</td>\n",
       "      <td>89210</td>\n",
       "      <td>0</td>\n",
       "      <td>0</td>\n",
       "    </tr>\n",
       "    <tr>\n",
       "      <th>3</th>\n",
       "      <td>0</td>\n",
       "      <td>0</td>\n",
       "      <td>45</td>\n",
       "      <td>1</td>\n",
       "      <td>171565</td>\n",
       "      <td>1</td>\n",
       "      <td>1</td>\n",
       "    </tr>\n",
       "    <tr>\n",
       "      <th>4</th>\n",
       "      <td>0</td>\n",
       "      <td>0</td>\n",
       "      <td>53</td>\n",
       "      <td>1</td>\n",
       "      <td>149031</td>\n",
       "      <td>1</td>\n",
       "      <td>1</td>\n",
       "    </tr>\n",
       "  </tbody>\n",
       "</table>\n",
       "</div>"
      ],
      "text/plain": [
       "   Sex  Marital status  Age  Education  Income  Occupation  Settlement size\n",
       "0    0               0   67          2  124670           1                2\n",
       "1    1               1   22          1  150773           1                2\n",
       "2    0               0   49          1   89210           0                0\n",
       "3    0               0   45          1  171565           1                1\n",
       "4    0               0   53          1  149031           1                1"
      ]
     },
     "execution_count": 5,
     "metadata": {},
     "output_type": "execute_result"
    }
   ],
   "source": [
    "data.head()"
   ]
  },
  {
   "cell_type": "code",
   "execution_count": 6,
   "id": "bd6f5f7e",
   "metadata": {},
   "outputs": [
    {
     "data": {
      "text/plain": [
       "<AxesSubplot:xlabel='Marital status', ylabel='Age'>"
      ]
     },
     "execution_count": 6,
     "metadata": {},
     "output_type": "execute_result"
    },
    {
     "data": {
      "image/png": "[encoded data removed]",
      "text/plain": [
       "<Figure size 432x288 with 1 Axes>"
      ]
     },
     "metadata": {},
     "output_type": "display_data"
    }
   ],
   "source": [
    "sns.barplot(data=data, x='Marital status', y='Age', hue='Education')"
   ]
  },
  {
   "cell_type": "code",
   "execution_count": 8,
   "id": "5327f05c",
   "metadata": {},
   "outputs": [
    {
     "data": {
      "text/html": [
       "<div>\n",
       "<style scoped>\n",
       "    .dataframe tbody tr th:only-of-type {\n",
       "        vertical-align: middle;\n",
       "    }\n",
       "\n",
       "    .dataframe tbody tr th {\n",
       "        vertical-align: top;\n",
       "    }\n",
       "\n",
       "    .dataframe thead th {\n",
       "        text-align: right;\n",
       "    }\n",
       "</style>\n",
       "<table border=\"1\" class=\"dataframe\">\n",
       "  <thead>\n",
       "    <tr style=\"text-align: right;\">\n",
       "      <th></th>\n",
       "      <th>Sex</th>\n",
       "      <th>Marital status</th>\n",
       "      <th>Age</th>\n",
       "      <th>Education</th>\n",
       "      <th>Income</th>\n",
       "      <th>Occupation</th>\n",
       "      <th>Settlement size</th>\n",
       "    </tr>\n",
       "  </thead>\n",
       "  <tbody>\n",
       "    <tr>\n",
       "      <th>Sex</th>\n",
       "      <td>1.000000</td>\n",
       "      <td>0.566511</td>\n",
       "      <td>-0.182885</td>\n",
       "      <td>0.244838</td>\n",
       "      <td>-0.195146</td>\n",
       "      <td>-0.202491</td>\n",
       "      <td>-0.300803</td>\n",
       "    </tr>\n",
       "    <tr>\n",
       "      <th>Marital status</th>\n",
       "      <td>0.566511</td>\n",
       "      <td>1.000000</td>\n",
       "      <td>-0.213178</td>\n",
       "      <td>0.374017</td>\n",
       "      <td>-0.073528</td>\n",
       "      <td>-0.029490</td>\n",
       "      <td>-0.097041</td>\n",
       "    </tr>\n",
       "    <tr>\n",
       "      <th>Age</th>\n",
       "      <td>-0.182885</td>\n",
       "      <td>-0.213178</td>\n",
       "      <td>1.000000</td>\n",
       "      <td>0.654605</td>\n",
       "      <td>0.340610</td>\n",
       "      <td>0.108388</td>\n",
       "      <td>0.119751</td>\n",
       "    </tr>\n",
       "    <tr>\n",
       "      <th>Education</th>\n",
       "      <td>0.244838</td>\n",
       "      <td>0.374017</td>\n",
       "      <td>0.654605</td>\n",
       "      <td>1.000000</td>\n",
       "      <td>0.233459</td>\n",
       "      <td>0.064524</td>\n",
       "      <td>0.034732</td>\n",
       "    </tr>\n",
       "    <tr>\n",
       "      <th>Income</th>\n",
       "      <td>-0.195146</td>\n",
       "      <td>-0.073528</td>\n",
       "      <td>0.340610</td>\n",
       "      <td>0.233459</td>\n",
       "      <td>1.000000</td>\n",
       "      <td>0.680357</td>\n",
       "      <td>0.490881</td>\n",
       "    </tr>\n",
       "    <tr>\n",
       "      <th>Occupation</th>\n",
       "      <td>-0.202491</td>\n",
       "      <td>-0.029490</td>\n",
       "      <td>0.108388</td>\n",
       "      <td>0.064524</td>\n",
       "      <td>0.680357</td>\n",
       "      <td>1.000000</td>\n",
       "      <td>0.571795</td>\n",
       "    </tr>\n",
       "    <tr>\n",
       "      <th>Settlement size</th>\n",
       "      <td>-0.300803</td>\n",
       "      <td>-0.097041</td>\n",
       "      <td>0.119751</td>\n",
       "      <td>0.034732</td>\n",
       "      <td>0.490881</td>\n",
       "      <td>0.571795</td>\n",
       "      <td>1.000000</td>\n",
       "    </tr>\n",
       "  </tbody>\n",
       "</table>\n",
       "</div>"
      ],
      "text/plain": [
       "                      Sex  Marital status       Age  Education    Income  \\\n",
       "Sex              1.000000        0.566511 -0.182885   0.244838 -0.195146   \n",
       "Marital status   0.566511        1.000000 -0.213178   0.374017 -0.073528   \n",
       "Age             -0.182885       -0.213178  1.000000   0.654605  0.340610   \n",
       "Education        0.244838        0.374017  0.654605   1.000000  0.233459   \n",
       "Income          -0.195146       -0.073528  0.340610   0.233459  1.000000   \n",
       "Occupation      -0.202491       -0.029490  0.108388   0.064524  0.680357   \n",
       "Settlement size -0.300803       -0.097041  0.119751   0.034732  0.490881   \n",
       "\n",
       "                 Occupation  Settlement size  \n",
       "Sex               -0.202491        -0.300803  \n",
       "Marital status    -0.029490        -0.097041  \n",
       "Age                0.108388         0.119751  \n",
       "Education          0.064524         0.034732  \n",
       "Income             0.680357         0.490881  \n",
       "Occupation         1.000000         0.571795  \n",
       "Settlement size    0.571795         1.000000  "
      ]
     },
     "execution_count": 8,
     "metadata": {},
     "output_type": "execute_result"
    }
   ],
   "source": [
    "#checking the correllation between the variables\n",
    "data.corr()"
   ]
  },
  {
   "cell_type": "code",
   "execution_count": 12,
   "id": "bad230e7",
   "metadata": {},
   "outputs": [
    {
     "data": {
      "text/plain": [
       "Sex                0\n",
       "Marital status     0\n",
       "Age                0\n",
       "Education          0\n",
       "Income             0\n",
       "Occupation         0\n",
       "Settlement size    0\n",
       "dtype: int64"
      ]
     },
     "execution_count": 12,
     "metadata": {},
     "output_type": "execute_result"
    }
   ],
   "source": [
    "#checking for null values\n",
    "data.isnull().sum()"
   ]
  },
  {
   "cell_type": "code",
   "execution_count": 10,
   "id": "d3227cdb",
   "metadata": {},
   "outputs": [
    {
     "data": {
      "text/plain": [
       "<AxesSubplot:xlabel='Sex', ylabel='Age'>"
      ]
     },
     "execution_count": 10,
     "metadata": {},
     "output_type": "execute_result"
    },
    {
     "data": {
      "image/png": "[encoded data removed]",
      "text/plain": [
       "<Figure size 432x288 with 1 Axes>"
      ]
     },
     "metadata": {},
     "output_type": "display_data"
    }
   ],
   "source": [
    "#Age and Sex barplot\n",
    "sns.barplot(data=data, y='Age', x='Sex', palette='Set1')"
   ]
  },
  {
   "cell_type": "markdown",
   "id": "3b28c230",
   "metadata": {},
   "source": [
    "# K-Means Clustering"
   ]
  },
  {
   "cell_type": "code",
   "execution_count": 13,
   "id": "0bdd6fb6",
   "metadata": {},
   "outputs": [],
   "source": [
    "#importing standard Scaler\n",
    "from sklearn.preprocessing import StandardScaler"
   ]
  },
  {
   "cell_type": "code",
   "execution_count": 14,
   "id": "c1d7a70b",
   "metadata": {},
   "outputs": [],
   "source": [
    "scaler = StandardScaler()"
   ]
  },
  {
   "cell_type": "code",
   "execution_count": 15,
   "id": "4d950fee",
   "metadata": {},
   "outputs": [],
   "source": [
    "scaled_x = scaler.fit_transform(data)"
   ]
  },
  {
   "cell_type": "code",
   "execution_count": 16,
   "id": "07d0f9c7",
   "metadata": {},
   "outputs": [],
   "source": [
    "from sklearn.cluster import KMeans"
   ]
  },
  {
   "cell_type": "code",
   "execution_count": 17,
   "id": "c45b5d12",
   "metadata": {},
   "outputs": [],
   "source": [
    "wcss= []\n",
    "\n",
    "for n in range(2, 10):\n",
    "    \n",
    "    model = KMeans(n_clusters=n)\n",
    "    labels = model.fit_predict(data)\n",
    "    \n",
    "    wcss.append(model.inertia_)"
   ]
  },
  {
   "cell_type": "code",
   "execution_count": 18,
   "id": "ab6cdd7e",
   "metadata": {},
   "outputs": [
    {
     "data": {
      "text/plain": [
       "Text(0, 0.5, 'wcss')"
      ]
     },
     "execution_count": 18,
     "metadata": {},
     "output_type": "execute_result"
    },
    {
     "data": {
      "image/png": "[encoded data removed]",
      "text/plain": [
       "<Figure size 432x288 with 1 Axes>"
      ]
     },
     "metadata": {},
     "output_type": "display_data"
    }
   ],
   "source": [
    "#plotting\n",
    "plt.plot(range(2, 10), wcss)\n",
    "plt.xlabel('n_cluster')\n",
    "plt.ylabel('wcss')"
   ]
  },
  {
   "cell_type": "code",
   "execution_count": 19,
   "id": "f5f0d302",
   "metadata": {},
   "outputs": [],
   "source": [
    "model = KMeans(n_clusters=4)\n",
    "labels = model.fit_predict(scaled_x)"
   ]
  },
  {
   "cell_type": "code",
   "execution_count": 20,
   "id": "6f025b85",
   "metadata": {},
   "outputs": [
    {
     "data": {
      "text/plain": [
       "array([3, 1, 0, ..., 0, 1, 0])"
      ]
     },
     "execution_count": 20,
     "metadata": {},
     "output_type": "execute_result"
    }
   ],
   "source": [
    "model.labels_"
   ]
  },
  {
   "cell_type": "code",
   "execution_count": 21,
   "id": "e11caa55",
   "metadata": {},
   "outputs": [
    {
     "data": {
      "text/plain": [
       "<AxesSubplot:xlabel='Marital status', ylabel='Age'>"
      ]
     },
     "execution_count": 21,
     "metadata": {},
     "output_type": "execute_result"
    },
    {
     "data": {
      "image/png": "[encoded data removed]",
      "text/plain": [
       "<Figure size 432x288 with 1 Axes>"
      ]
     },
     "metadata": {},
     "output_type": "display_data"
    }
   ],
   "source": [
    "sns.barplot(data=data, y='Age', x='Marital status', hue=labels)"
   ]
  },
  {
   "cell_type": "code",
   "execution_count": 22,
   "id": "4d840fa7",
   "metadata": {},
   "outputs": [
    {
     "data": {
      "text/plain": [
       "Index(['Sex', 'Marital status', 'Age', 'Education', 'Income', 'Occupation',\n",
       "       'Settlement size'],\n",
       "      dtype='object')"
      ]
     },
     "execution_count": 22,
     "metadata": {},
     "output_type": "execute_result"
    }
   ],
   "source": [
    "data.columns"
   ]
  },
  {
   "cell_type": "code",
   "execution_count": 23,
   "id": "c3745c2c",
   "metadata": {},
   "outputs": [
    {
     "data": {
      "text/plain": [
       "<AxesSubplot:xlabel='Settlement size', ylabel='Age'>"
      ]
     },
     "execution_count": 23,
     "metadata": {},
     "output_type": "execute_result"
    },
    {
     "data": {
      "image/png": "[encoded data removed]",
      "text/plain": [
       "<Figure size 432x288 with 1 Axes>"
      ]
     },
     "metadata": {},
     "output_type": "display_data"
    }
   ],
   "source": [
    "sns.barplot(data=data, x='Settlement size', y='Age', hue=labels, palette='Set1')"
   ]
  },
  {
   "cell_type": "markdown",
   "id": "397dd920",
   "metadata": {},
   "source": [
    "# Hierarchical Clustering"
   ]
  },
  {
   "cell_type": "code",
   "execution_count": 24,
   "id": "39b1cfc0",
   "metadata": {},
   "outputs": [],
   "source": [
    "from sklearn.preprocessing import StandardScaler"
   ]
  },
  {
   "cell_type": "code",
   "execution_count": 25,
   "id": "c2b29abf",
   "metadata": {},
   "outputs": [],
   "source": [
    "scaler = StandardScaler()"
   ]
  },
  {
   "cell_type": "code",
   "execution_count": 26,
   "id": "5d282fbd",
   "metadata": {},
   "outputs": [],
   "source": [
    "scaled_x = scaler.fit_transform(data)"
   ]
  },
  {
   "cell_type": "code",
   "execution_count": 27,
   "id": "63d32eda",
   "metadata": {},
   "outputs": [],
   "source": [
    "from sklearn.cluster import AgglomerativeClustering"
   ]
  },
  {
   "cell_type": "code",
   "execution_count": 28,
   "id": "37b0677e",
   "metadata": {},
   "outputs": [],
   "source": [
    "model = AgglomerativeClustering(n_clusters=None, distance_threshold=0)"
   ]
  },
  {
   "cell_type": "code",
   "execution_count": 29,
   "id": "8e6789f1",
   "metadata": {},
   "outputs": [],
   "source": [
    "labels = model.fit_predict(scaled_x)"
   ]
  },
  {
   "cell_type": "code",
   "execution_count": 30,
   "id": "48e24eac",
   "metadata": {},
   "outputs": [],
   "source": [
    "from scipy.cluster.hierarchy import dendrogram\n",
    "from scipy.cluster import hierarchy"
   ]
  },
  {
   "cell_type": "code",
   "execution_count": 31,
   "id": "1fd75e62",
   "metadata": {},
   "outputs": [],
   "source": [
    "linkage_matrix = hierarchy.linkage(model.children_)"
   ]
  },
  {
   "cell_type": "code",
   "execution_count": 32,
   "id": "c24b78ed",
   "metadata": {},
   "outputs": [
    {
     "data": {
      "image/png": "[encoded data removed]",
      "text/plain": [
       "<Figure size 432x288 with 1 Axes>"
      ]
     },
     "metadata": {},
     "output_type": "display_data"
    }
   ],
   "source": [
    "dn = hierarchy.dendrogram(linkage_matrix)"
   ]
  },
  {
   "cell_type": "code",
   "execution_count": 33,
   "id": "b9e0a062",
   "metadata": {},
   "outputs": [
    {
     "data": {
      "image/png": "[encoded data removed]",
      "text/plain": [
       "<Figure size 432x288 with 1 Axes>"
      ]
     },
     "metadata": {},
     "output_type": "display_data"
    }
   ],
   "source": [
    "dn = hierarchy.dendrogram(linkage_matrix, truncate_mode='lastp', p=250)"
   ]
  },
  {
   "cell_type": "markdown",
   "id": "9540433e",
   "metadata": {},
   "source": [
    "# DBSCAN"
   ]
  },
  {
   "cell_type": "code",
   "execution_count": 34,
   "id": "26dfd712",
   "metadata": {},
   "outputs": [],
   "source": [
    "from sklearn.preprocessing import MinMaxScaler"
   ]
  },
  {
   "cell_type": "code",
   "execution_count": 35,
   "id": "82f3174b",
   "metadata": {},
   "outputs": [],
   "source": [
    "scaler = MinMaxScaler()"
   ]
  },
  {
   "cell_type": "code",
   "execution_count": 36,
   "id": "eb7adb37",
   "metadata": {},
   "outputs": [],
   "source": [
    "scaled_x = scaler.fit_transform(data)"
   ]
  },
  {
   "cell_type": "code",
   "execution_count": 37,
   "id": "f40b7394",
   "metadata": {},
   "outputs": [],
   "source": [
    "from sklearn.cluster import DBSCAN"
   ]
  },
  {
   "cell_type": "code",
   "execution_count": 38,
   "id": "927b241c",
   "metadata": {},
   "outputs": [
    {
     "name": "stdout",
     "output_type": "stream",
     "text": [
      "[-1 -1 -1 ... -1 -1 -1]\n",
      "[ 0  1  2 ... 18  8 18]\n",
      "[ 0  1  2 ... 19  8 19]\n",
      "[ 0  1  2 ... 20  8 20]\n",
      "[0 1 2 ... 2 8 2]\n",
      "[0 1 0 ... 0 1 0]\n",
      "[0 1 0 ... 0 1 0]\n",
      "[0 1 0 ... 0 1 0]\n",
      "[0 1 0 ... 0 1 0]\n",
      "[0 1 0 ... 0 1 0]\n",
      "[0 0 0 ... 0 0 0]\n",
      "[0 0 0 ... 0 0 0]\n",
      "[0 0 0 ... 0 0 0]\n",
      "[0 0 0 ... 0 0 0]\n",
      "[0 0 0 ... 0 0 0]\n",
      "[0 0 0 ... 0 0 0]\n",
      "[0 0 0 ... 0 0 0]\n",
      "[0 0 0 ... 0 0 0]\n",
      "[0 0 0 ... 0 0 0]\n",
      "[0 0 0 ... 0 0 0]\n",
      "[0 0 0 ... 0 0 0]\n",
      "[0 0 0 ... 0 0 0]\n",
      "[0 0 0 ... 0 0 0]\n",
      "[0 0 0 ... 0 0 0]\n",
      "[0 0 0 ... 0 0 0]\n",
      "[0 0 0 ... 0 0 0]\n",
      "[0 0 0 ... 0 0 0]\n",
      "[0 0 0 ... 0 0 0]\n",
      "[0 0 0 ... 0 0 0]\n",
      "[0 0 0 ... 0 0 0]\n",
      "[0 0 0 ... 0 0 0]\n",
      "[0 0 0 ... 0 0 0]\n",
      "[0 0 0 ... 0 0 0]\n",
      "[0 0 0 ... 0 0 0]\n",
      "[0 0 0 ... 0 0 0]\n",
      "[0 0 0 ... 0 0 0]\n",
      "[0 0 0 ... 0 0 0]\n",
      "[0 0 0 ... 0 0 0]\n",
      "[0 0 0 ... 0 0 0]\n",
      "[0 0 0 ... 0 0 0]\n",
      "[0 0 0 ... 0 0 0]\n",
      "[0 0 0 ... 0 0 0]\n",
      "[0 0 0 ... 0 0 0]\n",
      "[0 0 0 ... 0 0 0]\n",
      "[0 0 0 ... 0 0 0]\n",
      "[0 0 0 ... 0 0 0]\n",
      "[0 0 0 ... 0 0 0]\n",
      "[0 0 0 ... 0 0 0]\n",
      "[0 0 0 ... 0 0 0]\n",
      "[0 0 0 ... 0 0 0]\n",
      "[0 0 0 ... 0 0 0]\n",
      "[0 0 0 ... 0 0 0]\n",
      "[0 0 0 ... 0 0 0]\n",
      "[0 0 0 ... 0 0 0]\n",
      "[0 0 0 ... 0 0 0]\n",
      "[0 0 0 ... 0 0 0]\n",
      "[0 0 0 ... 0 0 0]\n",
      "[0 0 0 ... 0 0 0]\n",
      "[0 0 0 ... 0 0 0]\n",
      "[0 0 0 ... 0 0 0]\n",
      "[0 0 0 ... 0 0 0]\n",
      "[0 0 0 ... 0 0 0]\n",
      "[0 0 0 ... 0 0 0]\n",
      "[0 0 0 ... 0 0 0]\n",
      "[0 0 0 ... 0 0 0]\n",
      "[0 0 0 ... 0 0 0]\n",
      "[0 0 0 ... 0 0 0]\n",
      "[0 0 0 ... 0 0 0]\n",
      "[0 0 0 ... 0 0 0]\n",
      "[0 0 0 ... 0 0 0]\n",
      "[0 0 0 ... 0 0 0]\n",
      "[0 0 0 ... 0 0 0]\n",
      "[0 0 0 ... 0 0 0]\n",
      "[0 0 0 ... 0 0 0]\n",
      "[0 0 0 ... 0 0 0]\n",
      "[0 0 0 ... 0 0 0]\n",
      "[0 0 0 ... 0 0 0]\n",
      "[0 0 0 ... 0 0 0]\n",
      "[0 0 0 ... 0 0 0]\n",
      "[0 0 0 ... 0 0 0]\n",
      "[0 0 0 ... 0 0 0]\n",
      "[0 0 0 ... 0 0 0]\n",
      "[0 0 0 ... 0 0 0]\n",
      "[0 0 0 ... 0 0 0]\n",
      "[0 0 0 ... 0 0 0]\n",
      "[0 0 0 ... 0 0 0]\n",
      "[0 0 0 ... 0 0 0]\n",
      "[0 0 0 ... 0 0 0]\n",
      "[0 0 0 ... 0 0 0]\n",
      "[0 0 0 ... 0 0 0]\n",
      "[0 0 0 ... 0 0 0]\n",
      "[0 0 0 ... 0 0 0]\n",
      "[0 0 0 ... 0 0 0]\n",
      "[0 0 0 ... 0 0 0]\n",
      "[0 0 0 ... 0 0 0]\n",
      "[0 0 0 ... 0 0 0]\n",
      "[0 0 0 ... 0 0 0]\n",
      "[0 0 0 ... 0 0 0]\n",
      "[0 0 0 ... 0 0 0]\n",
      "[0 0 0 ... 0 0 0]\n"
     ]
    }
   ],
   "source": [
    "no_of_outliers = []\n",
    "\n",
    "for eps in np.linspace(0.001, 10, 100):\n",
    "    \n",
    "    dbscan = DBSCAN(eps=eps)\n",
    "    dbscan.fit_predict(scaled_x)\n",
    "    \n",
    "    print(dbscan.labels_)\n",
    "    \n",
    "    no_of_outliers.append(np.sum(dbscan.labels_==-1))"
   ]
  },
  {
   "cell_type": "code",
   "execution_count": 39,
   "id": "ab2253ae",
   "metadata": {},
   "outputs": [
    {
     "data": {
      "text/plain": [
       "(0.0, 1.5)"
      ]
     },
     "execution_count": 39,
     "metadata": {},
     "output_type": "execute_result"
    },
    {
     "data": {
      "image/png": "[encoded data removed]",
      "text/plain": [
       "<Figure size 432x288 with 1 Axes>"
      ]
     },
     "metadata": {},
     "output_type": "display_data"
    }
   ],
   "source": [
    "plt.plot(np.linspace(0.001, 10, 100), no_of_outliers)\n",
    "plt.xlabel('eps')\n",
    "plt.ylabel('outliers')\n",
    "plt.xlim(0,1.5)"
   ]
  },
  {
   "cell_type": "code",
   "execution_count": 40,
   "id": "9415c143",
   "metadata": {},
   "outputs": [],
   "source": [
    "no_of_outliers = []\n",
    "\n",
    "for min_samples in range(2, 10):\n",
    "    \n",
    "    dbscan = DBSCAN(min_samples=min_samples)\n",
    "    dbscan.fit_predict(scaled_x)\n",
    "    \n",
    "    no_of_outliers.append(np.sum(dbscan.labels_==-1))"
   ]
  },
  {
   "cell_type": "code",
   "execution_count": 41,
   "id": "3df7072e",
   "metadata": {},
   "outputs": [
    {
     "data": {
      "text/plain": [
       "array([0, 1, 2, ..., 2, 7, 2], dtype=int64)"
      ]
     },
     "execution_count": 41,
     "metadata": {},
     "output_type": "execute_result"
    }
   ],
   "source": [
    "dbscan.labels_"
   ]
  },
  {
   "cell_type": "code",
   "execution_count": 42,
   "id": "2e6f50cc",
   "metadata": {},
   "outputs": [
    {
     "data": {
      "text/plain": [
       "Text(0, 0.5, 'outliers')"
      ]
     },
     "execution_count": 42,
     "metadata": {},
     "output_type": "execute_result"
    },
    {
     "data": {
      "image/png": "[encoded data removed]",
      "text/plain": [
       "<Figure size 432x288 with 1 Axes>"
      ]
     },
     "metadata": {},
     "output_type": "display_data"
    }
   ],
   "source": [
    "plt.plot(range(2, 10), no_of_outliers)\n",
    "plt.xlabel('samples')\n",
    "plt.ylabel('outliers')"
   ]
  },
  {
   "cell_type": "code",
   "execution_count": 43,
   "id": "2e2bbc06",
   "metadata": {},
   "outputs": [],
   "source": [
    "dbscan = DBSCAN(eps=0.5, min_samples=5)\n",
    "labels = dbscan.fit_predict(scaled_x)"
   ]
  },
  {
   "cell_type": "code",
   "execution_count": 44,
   "id": "3b6259dd",
   "metadata": {},
   "outputs": [
    {
     "data": {
      "text/plain": [
       "array([[0.        , 0.        , 0.84482759, ..., 0.32478101, 0.5       ,\n",
       "        1.        ],\n",
       "       [1.        , 1.        , 0.06896552, ..., 0.42021043, 0.5       ,\n",
       "        1.        ],\n",
       "       [0.        , 0.        , 0.53448276, ..., 0.19514353, 0.        ,\n",
       "        0.        ],\n",
       "       ...,\n",
       "       [0.        , 0.        , 0.22413793, ..., 0.18487051, 0.        ,\n",
       "        0.        ],\n",
       "       [1.        , 1.        , 0.10344828, ..., 0.22716172, 0.        ,\n",
       "        0.        ],\n",
       "       [0.        , 0.        , 0.12068966, ..., 0.11912317, 0.        ,\n",
       "        0.        ]])"
      ]
     },
     "execution_count": 44,
     "metadata": {},
     "output_type": "execute_result"
    }
   ],
   "source": [
    "scaled_x"
   ]
  },
  {
   "cell_type": "code",
   "execution_count": 45,
   "id": "a400235e",
   "metadata": {},
   "outputs": [
    {
     "data": {
      "text/plain": [
       "<AxesSubplot:xlabel='Marital status', ylabel='Age'>"
      ]
     },
     "execution_count": 45,
     "metadata": {},
     "output_type": "execute_result"
    },
    {
     "data": {
      "image/png": "[encoded data removed]",
      "text/plain": [
       "<Figure size 432x288 with 1 Axes>"
      ]
     },
     "metadata": {},
     "output_type": "display_data"
    }
   ],
   "source": [
    "sns.barplot(data=data, y='Age', x='Marital status', hue=labels)"
   ]
  },
  {
   "cell_type": "code",
   "execution_count": null,
   "id": "6ad22fbb",
   "metadata": {},
   "outputs": [],
   "source": []
  }
 ],
 "metadata": {
  "kernelspec": {
   "display_name": "Python 3",
   "language": "python",
   "name": "python3"
  },
  "language_info": {
   "codemirror_mode": {
    "name": "ipython",
    "version": 3
   },
   "file_extension": ".py",
   "mimetype": "text/x-python",
   "name": "python",
   "nbconvert_exporter": "python",
   "pygments_lexer": "ipython3",
   "version": "3.8.8"
  }
 },
 "nbformat": 4,
 "nbformat_minor": 5
}
